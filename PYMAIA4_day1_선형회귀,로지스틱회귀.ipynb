{
  "nbformat": 4,
  "nbformat_minor": 0,
  "metadata": {
    "colab": {
      "provenance": [],
      "toc_visible": true,
      "include_colab_link": true
    },
    "kernelspec": {
      "name": "python3",
      "display_name": "Python 3"
    },
    "language_info": {
      "name": "python"
    }
  },
  "cells": [
    {
      "cell_type": "markdown",
      "metadata": {
        "id": "view-in-github",
        "colab_type": "text"
      },
      "source": [
        "<a href=\"https://colab.research.google.com/github/Potdooshami/The-4th-POSTECH-Youth-Mathematical-Artificial-Intelligence-Academy-Public/blob/main/PYMAIA4_day1_%EC%84%A0%ED%98%95%ED%9A%8C%EA%B7%80%2C%EB%A1%9C%EC%A7%80%EC%8A%A4%ED%8B%B1%ED%9A%8C%EA%B7%80.ipynb\" target=\"_parent\"><img src=\"https://colab.research.google.com/assets/colab-badge.svg\" alt=\"Open In Colab\"/></a>"
      ]
    },
    {
      "cell_type": "markdown",
      "source": [
        "\n",
        "\n",
        "[![](https://www.gstatic.com/images/branding/product/2x/sheets_2020q4_48dp.png)데이터 수집용](https://docs.google.com/spreadsheets/d/1YlJ18eApWzd3qbpds8q4-yrFn5i6GgGfiDymwUR8734/edit?gid=0#gid=0)  [![](https://www.gstatic.com/images/branding/product/2x/slides_2020q4_48dp.png)분석 결과 공유](https://docs.google.com/presentation/d/1WZ-l75mrvAapqYKdPfsYUPnnDzMqVdsJxnmaGf4fLPY/edit?usp=sharing)\n"
      ],
      "metadata": {
        "id": "Rkv97o-ffzbe"
      }
    },
    {
      "cell_type": "markdown",
      "source": [
        "#1 데이터 전처리 및 탐색\n"
      ],
      "metadata": {
        "id": "_wr0owu264fF"
      }
    },
    {
      "cell_type": "code",
      "source": [
        "import matplotlib.pyplot as plt\n",
        "import matplotlib.patches as patches\n",
        "import numpy as np\n",
        "import io\n",
        "import pandas as pd\n"
      ],
      "metadata": {
        "id": "rAQ-_eUjw9dL"
      },
      "execution_count": null,
      "outputs": []
    },
    {
      "cell_type": "markdown",
      "source": [
        "## 데이터 수집"
      ],
      "metadata": {
        "id": "RUFtoPol5cvS"
      }
    },
    {
      "cell_type": "code",
      "source": [
        "df = pd.read_csv(io.StringIO('''\n",
        "ID,키,발 사이즈,\"성별(남,여)\"\n",
        "차은우,167,250,여\n",
        "홍지후,162,245,여\n",
        "\"ㅡ\"\"ㅡ\",164,255,여\n",
        "  ll,168,240,여\n",
        "장윤아,162,240,여\n",
        "수혀니,165,230,여\n",
        "미미민지,158,230,여\n",
        "김노겸,159,240,여\n",
        "애기공주,198,320,여\n",
        "집가고싶다고,167,230,여\n",
        "ㅇ,186,280,남\n",
        "ㅇ[]ㅇ,161,250,여\n",
        "송재민,184,290,남\n",
        "정세헌,174,270,남\n",
        "권하율,170,270,남\n",
        "박지원,181,300,남\n",
        "류민석,151,220,여\n",
        "악,156,245,여\n",
        "이세한,176,265,남\n",
        "ㅇㅅㅇ,162,245,남\n",
        "이연지,165,245,여\n",
        "어니ㅏㅇ머,162,250,여\n",
        "윤하준,175,265,상남자\n",
        "이름,176,270,남\n",
        "'''))\n",
        "df"
      ],
      "metadata": {
        "id": "3xUEk_c93vH9"
      },
      "execution_count": null,
      "outputs": []
    },
    {
      "cell_type": "markdown",
      "source": [
        "## 데이터 전처리"
      ],
      "metadata": {
        "id": "P3JDzUe4NV-r"
      }
    },
    {
      "cell_type": "markdown",
      "source": [
        "한국어 -> 영어"
      ],
      "metadata": {
        "id": "G-VECDSHNdfF"
      }
    },
    {
      "cell_type": "code",
      "source": [
        "df.columns = ['ID','height','shoe size','sex']"
      ],
      "metadata": {
        "id": "eoWsZWsbGp3V"
      },
      "execution_count": null,
      "outputs": []
    },
    {
      "cell_type": "markdown",
      "source": [
        "결측치 처리"
      ],
      "metadata": {
        "id": "gnr0jp7XNp1D"
      }
    },
    {
      "cell_type": "code",
      "source": [
        "gender_map = {\n",
        "    '남': 'male',\n",
        "    '상남자': 'male',  # '상남자'도 'male'로 매핑\n",
        "    '여': 'Female'\n",
        "}\n",
        "df['sex'] = df['sex'].map(gender_map)\n",
        "df"
      ],
      "metadata": {
        "id": "XYfUZFnWX8uH"
      },
      "execution_count": null,
      "outputs": []
    },
    {
      "cell_type": "code",
      "source": [
        "df = df.iloc[:,1:]"
      ],
      "metadata": {
        "id": "GDwpCPmcY7bv"
      },
      "execution_count": null,
      "outputs": []
    },
    {
      "cell_type": "markdown",
      "source": [
        "불필요한 데이터 제거"
      ],
      "metadata": {
        "id": "Gna1Tc61NyRE"
      }
    },
    {
      "cell_type": "code",
      "source": [
        "df"
      ],
      "metadata": {
        "id": "VNOFNKSpZLOh"
      },
      "execution_count": null,
      "outputs": []
    },
    {
      "cell_type": "markdown",
      "source": [
        "## 데이터 시각화"
      ],
      "metadata": {
        "id": "OOtC228F5yiK"
      }
    },
    {
      "cell_type": "markdown",
      "source": [
        "시각화1: 산점도 플롯"
      ],
      "metadata": {
        "id": "N8pegx7qOybX"
      }
    },
    {
      "cell_type": "code",
      "execution_count": null,
      "metadata": {
        "id": "c3lpjv99PRbN"
      },
      "outputs": [],
      "source": [
        "xs = df['height'].values\n",
        "ys = df['shoe size'].values\n",
        "fig,ax = plt.subplots()\n",
        "ax.plot(xs,ys,'o')\n",
        "plt.ylabel('Shoe Size')\n",
        "plt.xlabel('Height')\n"
      ]
    },
    {
      "cell_type": "markdown",
      "source": [
        "시각화2 = 시각화1 + 성별 정보  \n",
        "->좋은 시각화는 데이터를 더 명료하게 보여준다."
      ],
      "metadata": {
        "id": "gGjEYPLkO39C"
      }
    },
    {
      "cell_type": "code",
      "source": [
        "import seaborn as sns\n",
        "sns.scatterplot(data=df, x='height', y='shoe size',hue='sex')"
      ],
      "metadata": {
        "id": "KoifF-uxgnr_"
      },
      "execution_count": null,
      "outputs": []
    },
    {
      "cell_type": "markdown",
      "source": [
        "이상치 제거"
      ],
      "metadata": {
        "id": "9UN-M066Oou2"
      }
    },
    {
      "cell_type": "code",
      "source": [
        "is_outlier = df['height'].values>190\n",
        "df = df[~is_outlier]\n",
        "sns.scatterplot(data=df, x='height', y='shoe size',hue='sex')"
      ],
      "metadata": {
        "id": "U7Y7VZHdOhTL"
      },
      "execution_count": null,
      "outputs": []
    },
    {
      "cell_type": "markdown",
      "source": [
        "# 2 선형 회귀"
      ],
      "metadata": {
        "id": "hDy-6NIvnlmQ"
      }
    },
    {
      "cell_type": "markdown",
      "source": [
        "## 키로 발사이즈 예측하기"
      ],
      "metadata": {
        "id": "628fmxyQPxUd"
      }
    },
    {
      "cell_type": "code",
      "source": [
        "xs = df['height'].values\n",
        "ys = df['shoe size'].values\n",
        "fig,ax = plt.subplots()\n",
        "ax.plot(xs,ys,'o')\n",
        "plt.ylabel('Shoe Size')\n",
        "plt.xlabel('Height')"
      ],
      "metadata": {
        "id": "b_AwHzjKP2Jq"
      },
      "execution_count": null,
      "outputs": []
    },
    {
      "cell_type": "markdown",
      "source": [
        "##파라미터 튜닝: m,c를 조절해서 적당한 직선 찾기"
      ],
      "metadata": {
        "id": "I7-AZQBhQQeF"
      }
    },
    {
      "cell_type": "code",
      "source": [
        "m = 2 # @param {type:\"raw\"}\n",
        "c = -80 # @param {type:\"raw\"}\n",
        "\n",
        "fig,ax = plt.subplots()\n",
        "ax.plot(xs,ys,'o',label='Actual Data')\n",
        "plt.ylabel('Shoe Size')\n",
        "plt.xlabel('Height')\n",
        "my_figure = fig\n",
        "\n",
        "\n",
        "xx = np.arange(150,200)\n",
        "plt.plot(xx,m*xx+c,label='Predict')\n",
        "plt.legend()\n",
        "plt.title('Linear Regression')"
      ],
      "metadata": {
        "id": "0aylFBmVyD23",
        "cellView": "form"
      },
      "execution_count": null,
      "outputs": []
    },
    {
      "cell_type": "markdown",
      "source": [
        "다른 친구들은 어떻게 했을까?\n",
        "\n"
      ],
      "metadata": {
        "id": "IA4X1WiKzW0z"
      }
    },
    {
      "cell_type": "markdown",
      "source": [
        "##비용함수: 좋은 직선을 수학적으로 정의하기"
      ],
      "metadata": {
        "id": "24oGdsqP8BJb"
      }
    },
    {
      "cell_type": "code",
      "source": [
        "m = 1# @param {type:\"number\"}\n",
        "c = 80# @param {type:\"number\"}\n",
        "fcn_estimate = lambda x: m*x + c\n",
        "xs = df['height'].values\n",
        "ys = df['shoe size'].values\n",
        "def sort_by_x(x_unsorted, y_unsorted):\n",
        "    \"\"\"\n",
        "    Sorts two lists/arrays based on the values in the first list/array.\n",
        "\n",
        "    Args:\n",
        "        x_unsorted: The list or array to sort by.\n",
        "        y_unsorted: The list or array to sort according to the order of x_unsorted.\n",
        "\n",
        "    Returns:\n",
        "        A tuple containing the sorted x_unsorted and y_unsorted.\n",
        "    \"\"\"\n",
        "    # Combine x and y into pairs, sort by x, then separate\n",
        "    sorted_pairs = sorted(zip(x_unsorted, y_unsorted))\n",
        "    x_sorted, y_sorted = zip(*sorted_pairs)\n",
        "    return np.array(x_sorted), np.array(y_sorted)\n",
        "\n",
        "# Example usage (optional - can be removed or commented out)\n",
        "# x_unsorted = [5, 2, 8, 1, 9]\n",
        "# y_unsorted = [10, 4, 16, 2, 18]\n",
        "# x_sorted, y_sorted = sort_by_x(x_unsorted, y_unsorted)\n",
        "# print(\"Sorted x:\", x_sorted)\n",
        "# print(\"Sorted y:\", y_sorted)\n",
        "def visualize_MSE(fcn_estimate,xs,ys,l_compare=100):\n",
        "  l = l_compare\n",
        "  xs,ys = sort_by_x(xs,ys)\n",
        "  fcn = fcn_estimate\n",
        "  fig, axs = plt.subplots(1, 2, layout='constrained',figsize=(10, 5))\n",
        "  plt.sca(axs[0])\n",
        "  plt.plot(xs,ys,'o',label='Actual Data')\n",
        "  x_smooth = np.linspace(xs.min(), xs.max(), 100)\n",
        "  plt.plot(x_smooth,fcn(x_smooth),label='Predict')\n",
        "  plt.ylabel('Shoe Size')\n",
        "  plt.xlabel('Height')\n",
        "  xs = np.array(xs)\n",
        "  ys = np.array(ys)\n",
        "  errors = ys - fcn(xs)\n",
        "  clr_error = []\n",
        "  for i, error in enumerate(errors):\n",
        "      if error >= 0:\n",
        "          clr = 'red'\n",
        "      else:\n",
        "          clr = 'blue'\n",
        "      plt.plot([xs[i], xs[i]], [fcn(xs[i]), ys[i]], color=clr, linestyle='-')\n",
        "      clr_error.append(clr)\n",
        "  plt.legend()\n",
        "  plt.title('Visualize error')\n",
        "\n",
        "\n",
        "\n",
        "\n",
        "\n",
        "  plt.sca(axs[1])\n",
        "  # 정사각형 넓이 리스트\n",
        "  square_areas = errors*errors\n",
        "\n",
        "  # 정사각형 색상 리스트\n",
        "  colors = ['red', 'blue', 'green', 'yellow', 'purple']\n",
        "\n",
        "  # 넓이 합 계산\n",
        "  total_area = sum(square_areas)\n",
        "\n",
        "  # 시각화 시작\n",
        "  ax = axs[1]\n",
        "\n",
        "  # 정사각형 그리기\n",
        "  start_x = 0\n",
        "\n",
        "  for i, area in enumerate(square_areas):\n",
        "    #area = abs(errors[i])\n",
        "      side = np.sqrt(area)  # 정사각형 한 변의 길이 계산\n",
        "      rect = plt.Rectangle((start_x, 0), side, side, facecolor=clr_error[i])\n",
        "      ax.add_patch(rect)\n",
        "      start_x += side  # 다음 정사각형 시작 위치 설정\n",
        "\n",
        "  # 텍스트 추가 (넓이 합 표시)\n",
        "  #plt.text(0.5, -0.1, f'Total Area: {total_area}',\n",
        "  #         horizontalalignment='center', verticalalignment='center',\n",
        "  #         transform=ax.transAxes, fontsize=12)\n",
        "\n",
        "  # 그래프 설정\n",
        "\n",
        "\n",
        "  #ax.set_xlim([0, 100])\n",
        "  #ax.set_ylim([0, 100])  # y축 범위 설정\n",
        "  ax.set_aspect('equal')  # 정사각형 모양 유지\n",
        "  plt.title('Sum of Areas of Squares')\n",
        "  plt.xlabel('Width')\n",
        "  plt.ylabel('Height')\n",
        "  plt.plot([0, l, l, 0, 0],[0, 0, l, l, 0],'--',label=f'RMSE={l}')\n",
        "  lsum = np.sqrt(square_areas.sum())\n",
        "  xs_sum = np.array([0,1,1,0,0])\n",
        "  ys_sum = np.array([0,0,1,1,0])\n",
        "  plt.plot(xs_sum*lsum,ys_sum*lsum,label=f\"RMSE(Current Model)={lsum:.3f}\")\n",
        "  plt.legend()\n",
        "\n",
        "visualize_MSE(fcn_estimate,xs,ys)\n"
      ],
      "metadata": {
        "cellView": "form",
        "id": "wuUZN5bUpM5T"
      },
      "execution_count": null,
      "outputs": []
    },
    {
      "cell_type": "markdown",
      "source": [
        "x와 y값을 넣어주면 자동으로 m과 c를 정해줄 수는 없을까?"
      ],
      "metadata": {
        "id": "gD9FsIr8qAL1"
      }
    },
    {
      "cell_type": "markdown",
      "source": [
        "# 3 로지스틱 회귀"
      ],
      "metadata": {
        "id": "FzWCAWTJ5HPQ"
      }
    },
    {
      "cell_type": "markdown",
      "source": [
        "## 시그모이드랑 친해지기"
      ],
      "metadata": {
        "id": "Esqa_2AY4e39"
      }
    },
    {
      "cell_type": "markdown",
      "source": [
        "[$\\sigma(x) = \\frac{1}{1 + e^{-(Wx + b)}}$](https://www.desmos.com/calculator/zxl48byttf)\n",
        "\n"
      ],
      "metadata": {
        "id": "y1GnAMyRfG13"
      }
    },
    {
      "cell_type": "markdown",
      "source": [
        "## 발사이즈로 성별 예측하기"
      ],
      "metadata": {
        "id": "Ohx9sTP_v0El"
      }
    },
    {
      "cell_type": "code",
      "source": [
        "df['is_male'] = (df['sex'].values == 'male')"
      ],
      "metadata": {
        "id": "aKy0M8Gg3X0y"
      },
      "execution_count": null,
      "outputs": []
    },
    {
      "cell_type": "code",
      "source": [
        "sns.scatterplot(data=df, x='shoe size', y='is_male',alpha=.3)"
      ],
      "metadata": {
        "id": "AEgav7mO4jUX"
      },
      "execution_count": null,
      "outputs": []
    },
    {
      "cell_type": "markdown",
      "source": [
        "##파라미터 튜닝"
      ],
      "metadata": {
        "id": "LtnVImhPTDAp"
      }
    },
    {
      "cell_type": "code",
      "source": [
        "W=1# @param {type:\"number\"}\n",
        "b=-250# @param {type:\"number\"}\n",
        "xs = df['shoe size'].values\n",
        "ys = df['is_male'].values\n",
        "def sigmoid(x, W, b):\n",
        "    return 1 / (1 + np.exp(-(W * x + b)))\n",
        "visualize_MSE(lambda x:sigmoid(x, W, b),xs,ys,l_compare=1)\n"
      ],
      "metadata": {
        "cellView": "form",
        "id": "cJeMmTA-4lru"
      },
      "execution_count": null,
      "outputs": []
    },
    {
      "cell_type": "markdown",
      "source": [
        "# ..."
      ],
      "metadata": {
        "id": "b5ywpKzaRFwv"
      }
    },
    {
      "cell_type": "markdown",
      "source": [
        "우리가 오늘 손으로 최적의 값을 컴퓨터에게 시킬 순 없을까?"
      ],
      "metadata": {
        "id": "thCAX6kJRVol"
      }
    }
  ]
}