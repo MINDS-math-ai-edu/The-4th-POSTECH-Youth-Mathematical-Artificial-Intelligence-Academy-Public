{
  "nbformat": 4,
  "nbformat_minor": 0,
  "metadata": {
    "colab": {
      "provenance": [],
      "toc_visible": true,
      "authorship_tag": "ABX9TyNXYm70ih0pQMKRZ49xZwgi",
      "include_colab_link": true
    },
    "kernelspec": {
      "name": "python3",
      "display_name": "Python 3"
    },
    "language_info": {
      "name": "python"
    }
  },
  "cells": [
    {
      "cell_type": "markdown",
      "metadata": {
        "id": "view-in-github",
        "colab_type": "text"
      },
      "source": [
        "<a href=\"https://colab.research.google.com/github/Potdooshami/The-4th-POSTECH-Youth-Mathematical-Artificial-Intelligence-Academy-Public/blob/main/PYMAIA4_day1_%ED%8C%8C%EC%9D%B4%EC%8D%AC%EC%8B%A4%EC%8A%B5.ipynb\" target=\"_parent\"><img src=\"https://colab.research.google.com/assets/colab-badge.svg\" alt=\"Open In Colab\"/></a>"
      ]
    },
    {
      "cell_type": "markdown",
      "source": [
        "#1 Hello World"
      ],
      "metadata": {
        "id": "XFXhm9Jq01nk"
      }
    },
    {
      "cell_type": "code",
      "execution_count": null,
      "metadata": {
        "id": "TYR09x6-HNB6"
      },
      "outputs": [],
      "source": [
        "print('hello world!') #알파벳과 몇개의 특수문자를 포함하여 컴퓨터에게 명령을 시킬 수 있다.(모든 프로그래밍 언어의 공통점)\n",
        "print('헬로 월드') #한글로"
      ]
    },
    {
      "cell_type": "code",
      "source": [
        "print('hello world' #오류1: 모든 글자의 나열이 컴퓨터에게 명령을 내릴 수는 없다. syntax(문법)에 맞게"
      ],
      "metadata": {
        "id": "zU4EhW4kIFvg"
      },
      "execution_count": null,
      "outputs": []
    },
    {
      "cell_type": "code",
      "source": [
        "rint('hello world') #오류2: 출력이 다른 걸 확인 가능하다. 오류의 원인은 여러가지이다."
      ],
      "metadata": {
        "id": "dpjGZmlFIIj1"
      },
      "execution_count": null,
      "outputs": []
    },
    {
      "cell_type": "code",
      "source": [
        "print('hell world') # 문법적으로 맞다고 모두 의미있는 결과인 것은 아니다.컴퓨터는 의미를 생각하지 않는다. 그저 시킨 일을 묵묵히 수행할 뿐이다."
      ],
      "metadata": {
        "id": "vaPqlKg8IP4S"
      },
      "execution_count": null,
      "outputs": []
    },
    {
      "cell_type": "markdown",
      "source": [
        "#2 변수"
      ],
      "metadata": {
        "id": "U9wPxc9-1BtK"
      }
    },
    {
      "cell_type": "markdown",
      "source": [
        "##원시 변수"
      ],
      "metadata": {
        "id": "VoGzZ-fbfkI1"
      }
    },
    {
      "cell_type": "markdown",
      "source": [
        "### 숫자형"
      ],
      "metadata": {
        "id": "bWe4ZdwNjgyj"
      }
    },
    {
      "cell_type": "code",
      "source": [
        "x = 1.1 #x라는 변수에 1이라는 값을 넣는다.\n",
        "y = 3 #y라는 변수에 3이라는 값을 넣는다.\n",
        "#아무 일도 안 일어 난다...."
      ],
      "metadata": {
        "id": "T9ADhrUj1RmI"
      },
      "execution_count": null,
      "outputs": []
    },
    {
      "cell_type": "code",
      "source": [
        "print(x)\n",
        "print(y)\n",
        "# 컴퓨터 메모리 상에 제대로 저장이 되었는지 확인하기 위해서는 print()라는 함수를 사용하면 된다."
      ],
      "metadata": {
        "id": "a6HDMvR41YlR"
      },
      "execution_count": null,
      "outputs": []
    },
    {
      "cell_type": "code",
      "source": [
        "print(type(x));print(type(y))"
      ],
      "metadata": {
        "id": "9x_3CBRADLZ1"
      },
      "execution_count": null,
      "outputs": []
    },
    {
      "cell_type": "code",
      "source": [
        "print(x+y,x-y,x*y,x/y)# 3번째 같은 상황... int를 따로 쓰는 이유"
      ],
      "metadata": {
        "id": "VBtV6aGLOu5d"
      },
      "execution_count": null,
      "outputs": []
    },
    {
      "cell_type": "markdown",
      "source": [
        "###문자형"
      ],
      "metadata": {
        "id": "3QUxZur3jlD1"
      }
    },
    {
      "cell_type": "code",
      "source": [
        "s1 = 'academy'\n",
        "s2 = 'hello world!'\n",
        "print(s1,s2,type(s1),type(s1))\n",
        "print(s1+s2)"
      ],
      "metadata": {
        "id": "0OdJVL2OCbSH"
      },
      "execution_count": null,
      "outputs": []
    },
    {
      "cell_type": "markdown",
      "source": [
        "###부울형"
      ],
      "metadata": {
        "id": "DJ0ui3Shjwbl"
      }
    },
    {
      "cell_type": "code",
      "source": [
        "x = 7>2\n",
        "print(x,type(x))\n",
        "x = 7==2\n",
        "print(x)\n",
        "x = 7<2\n",
        "print(x)"
      ],
      "metadata": {
        "id": "V6E7MzWKUw3W"
      },
      "execution_count": null,
      "outputs": []
    },
    {
      "cell_type": "markdown",
      "source": [
        "## 컨테이너형 변수"
      ],
      "metadata": {
        "id": "UlU7hy20eQyW"
      }
    },
    {
      "cell_type": "markdown",
      "source": [
        "###리스트"
      ],
      "metadata": {
        "id": "jxxVSUNFnttZ"
      }
    },
    {
      "cell_type": "code",
      "source": [
        "list1 = [1, 2, 3, 4, 5] # 리스트는 순서가 있는 여러 개의 값을 저장할 수 있는 컨테이너형 변수입니다.\n",
        "list2 = [\"apple\", \"banana\", \"cherry\"]\n",
        "list3 = [1, \"hello\", True]\n",
        "\n",
        "print(list1)\n",
        "print(list2)\n",
        "print(list3)"
      ],
      "metadata": {
        "id": "m5_GcqLJ0o0P"
      },
      "execution_count": null,
      "outputs": []
    },
    {
      "cell_type": "code",
      "source": [
        "# 리스트의 요소에 접근하기\n",
        "print(list1[0]) # 첫 번째 요소 출력\n",
        "print(list2[1]) # 두 번째 요소 출력\n",
        "\n",
        "# 리스트의 요소 변경하기\n",
        "list1[0] = 10\n",
        "print(list1)\n",
        "\n",
        "# 리스트에 요소 추가하기\n",
        "list2.append(\"date\")\n",
        "print(list2)\n",
        "\n",
        "# 리스트에서 요소 제거하기\n",
        "list3.remove(\"hello\")\n",
        "print(list3)\n",
        "\n",
        "# 리스트의 길이 확인하기\n",
        "print(len(list1))\n",
        "\n",
        "# 리스트 슬라이싱\n",
        "print(list1[1:4]) # 인덱스 1부터 3까지의 요소 출력"
      ],
      "metadata": {
        "id": "Hm2m8gfx00z_"
      },
      "execution_count": null,
      "outputs": []
    },
    {
      "cell_type": "markdown",
      "source": [
        "###튜플\n"
      ],
      "metadata": {
        "id": "caPlqGBAn5Jq"
      }
    },
    {
      "cell_type": "code",
      "source": [
        "# prompt: 튜플에 대해 설명해줘.\n",
        "\n",
        "my_tuple = (1, 2, 3)\n",
        "print(my_tuple)\n",
        "\n",
        "another_tuple = (\"apple\", \"banana\", \"cherry\")\n",
        "print(another_tuple)\n",
        "\n",
        "mixed_tuple = (1, \"hello\", True)\n",
        "mixed_tuple\n"
      ],
      "metadata": {
        "id": "GDi2y97T05Cp"
      },
      "execution_count": null,
      "outputs": []
    },
    {
      "cell_type": "markdown",
      "source": [
        "#3 함수"
      ],
      "metadata": {
        "id": "AvWsTQ2h1uXO"
      }
    },
    {
      "cell_type": "markdown",
      "source": [
        "## 내장함수"
      ],
      "metadata": {
        "id": "CnRPjmqsoRu6"
      }
    },
    {
      "cell_type": "code",
      "source": [
        "#내장함수\n",
        "#위에서 쓴 print(), type()도 함수임\n",
        "#사칙연산도 사실 함수로 볼 수 있다. input: 2개의 인풋에 하나의 아웃풋을 가지는 함수이다.\n",
        "print(abs(x-y))# 다른 예시 abs와 float\n",
        "one = 1\n",
        "one_flt =  float(one)\n",
        "print(one)\n",
        "print(one_flt)\n",
        "print(type(one),type(one_flt))"
      ],
      "metadata": {
        "id": "hQkAazx01vH8"
      },
      "execution_count": null,
      "outputs": []
    },
    {
      "cell_type": "markdown",
      "source": [
        "##사용자 정의 함수"
      ],
      "metadata": {
        "id": "jjU0-rYHoVUw"
      }
    },
    {
      "cell_type": "code",
      "source": [
        "def diff(x,y):\n",
        "  return abs(x-y)\n",
        "def pt(a):\n",
        "  print(type(a))\n",
        "\n",
        "\n",
        "print(diff(x,y))\n",
        "print(diff(one,one_flt))\n",
        "pt(one)\n",
        "pt(one_flt)\n",
        "\n",
        "# 지금 배워 둔 기본 함수, 변수가 너무 적어\n",
        "#변수와 마찬가지로 함수는 재사용 가능하다.반복적으로 사용하는 구문을 함수로 만들어서 재사용하는 것은 좋은 프로그래밍의 핵심 전략"
      ],
      "metadata": {
        "id": "hoWCOLOMG3if"
      },
      "execution_count": null,
      "outputs": []
    },
    {
      "cell_type": "markdown",
      "source": [
        "#4 제어문"
      ],
      "metadata": {
        "id": "d-MRsdhsvUPP"
      }
    },
    {
      "cell_type": "markdown",
      "source": [
        "##if"
      ],
      "metadata": {
        "id": "4xqa85mA2iS4"
      }
    },
    {
      "cell_type": "code",
      "source": [
        "a = 22\n",
        "if a>10:\n",
        "  print('a is bigger than 10')\n",
        "else:\n",
        "  print('a is smaller than 10')"
      ],
      "metadata": {
        "id": "u33j6MxGyG_1"
      },
      "execution_count": null,
      "outputs": []
    },
    {
      "cell_type": "markdown",
      "source": [
        "##for"
      ],
      "metadata": {
        "id": "8xHlLbRo2bDM"
      }
    },
    {
      "cell_type": "code",
      "source": [
        "#for 반복문, 반복횟수를 정해 놓는다.\n",
        "for i in range(5):\n",
        "  print(i)\n",
        "\n",
        "list_ = [1,2,3,4,5]\n",
        "for item in list_:\n",
        "  print(item)\n"
      ],
      "metadata": {
        "id": "uUK_fPC_1S2k"
      },
      "execution_count": null,
      "outputs": []
    },
    {
      "cell_type": "markdown",
      "source": [
        "##while"
      ],
      "metadata": {
        "id": "FW840LbR2ctm"
      }
    },
    {
      "cell_type": "code",
      "source": [
        "#for 반복문, 반복횟수를 정해 놓는다.\n",
        "i = 1\n",
        "while i <= 5:\n",
        "    print(i)\n",
        "    i += 1"
      ],
      "metadata": {
        "id": "8hWSY0E8PW8V"
      },
      "execution_count": null,
      "outputs": []
    },
    {
      "cell_type": "markdown",
      "source": [
        "# 5 라이브러리"
      ],
      "metadata": {
        "id": "kI0Nbjc4vYyp"
      }
    },
    {
      "cell_type": "code",
      "source": [
        "#외장함수(라고 생각하면 된다)\n",
        "import numpy as np #array라는 자료형 제공해서 python 보완\n",
        "import pandas as pd #dataframe\n",
        "import matplotlib.pyplot as plt #시각화\n",
        "import seaborn as sns # 시각화2"
      ],
      "metadata": {
        "id": "t1V4FhyOPJWT"
      },
      "execution_count": null,
      "outputs": []
    },
    {
      "cell_type": "code",
      "source": [
        "[1,2,3] +[21]\n",
        "np.array([1,2,3]) + np.array([2,3,1])"
      ],
      "metadata": {
        "id": "VGHZvDjSx82L"
      },
      "execution_count": null,
      "outputs": []
    },
    {
      "cell_type": "code",
      "source": [
        "#그래프 시각화\n",
        "xs = [0,1,2,3,4,5,6,7,8,9,10]\n",
        "ys = [0,1,4,9,16,25,36,49,64,81,100]\n",
        "plt.plot(xs,ys)"
      ],
      "metadata": {
        "id": "1qI5AUAP1_LP"
      },
      "execution_count": null,
      "outputs": []
    },
    {
      "cell_type": "code",
      "source": [
        "plt.plot(xs,ys,'ro-')\n",
        "plt.title('y=x^2')\n",
        "plt.xlabel('x')\n",
        "plt.ylabel('y')\n",
        "# 여러가지 명령어를 사용하면 그래프를 더 세세하게 설정하고 예쁘게 그려진다."
      ],
      "metadata": {
        "id": "KwVFyUt63ob-"
      },
      "execution_count": null,
      "outputs": []
    }
  ]
}